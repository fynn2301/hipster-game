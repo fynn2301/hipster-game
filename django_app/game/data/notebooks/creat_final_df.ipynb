{
 "cells": [
  {
   "cell_type": "code",
   "execution_count": 1,
   "metadata": {},
   "outputs": [],
   "source": [
    "import pandas as pd\n",
    "import matplotlib.pyplot as plt\n",
    "import ast"
   ]
  },
  {
   "cell_type": "code",
   "execution_count": 3,
   "metadata": {},
   "outputs": [],
   "source": [
    "\n",
    "\n",
    "# Read the CSV file, ensuring no extra index is added\n",
    "df_songs_chart_usa = pd.read_csv('/Users/fynnersatz/Desktop/python/hitster/django/music_game/game/data/raw_de/chart_data_de.csv', index_col=None)\n",
    "df_songs_spotify_usa = pd.read_csv('/Users/fynnersatz/Desktop/python/hitster/django/music_game/game/data/raw_de/spotify_data_de.csv', index_col=None)\n",
    "df_songs_spotify_usa['artist_spotify'] = df_songs_spotify_usa['artist_spotify'].apply(ast.literal_eval)\n",
    "df_songs_spotify_usa['country'] = \"usa\"\n",
    "\n",
    "\n",
    "# Read the CSV file, ensuring no extra index is added\n",
    "df_songs_chart_de = pd.read_csv('/Users/fynnersatz/Desktop/python/hitster/django/music_game/game/data/raw_usa/chart_data_usa.csv', index_col=None)\n",
    "df_songs_spotify_de = pd.read_csv('/Users/fynnersatz/Desktop/python/hitster/django/music_game/game/data/raw_usa/spotify_data_usa.csv', index_col=None)\n",
    "df_songs_spotify_de['artist_spotify'] = df_songs_spotify_de['artist_spotify'].apply(ast.literal_eval)\n",
    "df_songs_spotify_de['country'] = \"de\"\n",
    "# Concatenate spaltenweise\n",
    "df_songs_de = pd.concat([df_songs_chart_de, df_songs_spotify_de], axis=1)\n",
    "df_songs_de = df_songs_de[df_songs_de[\"match_score\"] >150]\n",
    "\n",
    "df_songs_usa = pd.concat([df_songs_chart_usa, df_songs_spotify_usa], axis=1)\n",
    "df_songs_usa = df_songs_usa[df_songs_usa[\"match_score\"] >150]\n",
    "\n"
   ]
  },
  {
   "cell_type": "code",
   "execution_count": 4,
   "metadata": {},
   "outputs": [],
   "source": [
    "# Funktion zur Sicherstellung der Gleichheit für Listen oder einfache Werte\n",
    "def ensure_unique(series, col_name):\n",
    "    if series.apply(lambda x: isinstance(x, list)).all():  # Prüfen, ob alle Werte Listen sind\n",
    "        unique_values = series.apply(tuple).unique()  # Listen in Tupel umwandeln für .unique()\n",
    "    else:\n",
    "        unique_values = series.unique()\n",
    "    if len(unique_values) > 1:\n",
    "        raise ValueError(f\"Spalte '{col_name}' hat mehrere unterschiedliche Werte in einer Gruppe: {unique_values}\")\n",
    "    return unique_values[0]\n",
    "\n"
   ]
  },
  {
   "cell_type": "code",
   "execution_count": 5,
   "metadata": {},
   "outputs": [],
   "source": [
    "# Aggregationslogik definieren\n",
    "aggregations_country = {\n",
    "    \"artists\": lambda x: x.iloc[0],  # Take the first element of the group\n",
    "    \"artist_spotify\": lambda x: ensure_unique(x, \"artist_spotify\"),\n",
    "    \"title\": lambda x: x.iloc[0],   # Take the first element of the group\n",
    "    \"title_spotify\": lambda x: ensure_unique(x, \"title_spotify\"),\n",
    "    \"match_score\": lambda x: x.iloc[0],  # Take the first element of the group\n",
    "    \"year_released\": lambda x: x.iloc[0],  # Take the first element of the group\n",
    "    \"year_charts\": lambda x: x.min() if len(x) == len(set(x)) else ValueError(f\"'year_charts' hat doppelte Werte: {x.tolist()}\"),\n",
    "    \"points\": \"sum\",\n",
    "    \"pos\": \"min\",\n",
    "    \"max_pos\": \"min\",\n",
    "    \"weeks_top10\": \"sum\",\n",
    "    \"image\": lambda x: ensure_unique(x, \"image\"),\n",
    "    \"country\": lambda x: ensure_unique(x, \"country\"),\n",
    "}\n",
    "\n",
    "# Grouping und Aggregation\n",
    "try:\n",
    "    # `id_spotify` wird als Index verwendet und anschließend zurückgesetzt\n",
    "    df_songs_de_sorted = df_songs_de.sort_values(by=[\"id_spotify\", \"match_score\"], ascending=[True, False])\n",
    "    df_songs_de = df_songs_de_sorted.groupby(\"id_spotify\").agg(aggregations_country).reset_index()\n",
    "except ValueError as e:\n",
    "    print(\"Fehler bei der Gruppierung:\", e)\n",
    "\n",
    "try:\n",
    "    # `id_spotify` wird als Index verwendet und anschließend zurückgesetzt\n",
    "    df_songs_usa_sorted = df_songs_usa.sort_values(by=[\"id_spotify\", \"match_score\"], ascending=[True, False])\n",
    "    df_songs_usa = df_songs_usa_sorted.groupby(\"id_spotify\").agg(aggregations_country).reset_index()\n",
    "except ValueError as e:\n",
    "    print(\"Fehler bei der Gruppierung:\", e)"
   ]
  },
  {
   "cell_type": "code",
   "execution_count": 6,
   "metadata": {},
   "outputs": [],
   "source": [
    "df_songs = pd.concat([df_songs_de, df_songs_usa], axis=0)"
   ]
  },
  {
   "cell_type": "code",
   "execution_count": 7,
   "metadata": {},
   "outputs": [],
   "source": [
    "# Aggregationslogik definieren\n",
    "aggregations_total = {\n",
    "    \"artists\": lambda x: x.iloc[0],  # Take the first element of the group\n",
    "    \"artist_spotify\": lambda x: ensure_unique(x, \"artist_spotify\"),\n",
    "    \"title\": lambda x: x.iloc[0],   # Take the first element of the group\n",
    "    \"title_spotify\": lambda x: ensure_unique(x, \"title_spotify\"),\n",
    "    \"match_score\": lambda x: x.iloc[0],  # Take the first element of the group\n",
    "    \"year_released\": lambda x: x.iloc[0],  # Take the first element of the group\n",
    "    \"year_charts\": lambda x: x.iloc[0],  # Take the first element of the group\n",
    "    \"points\": \"sum\",\n",
    "    \"pos\": \"min\",\n",
    "    \"max_pos\": \"min\",\n",
    "    \"weeks_top10\": \"sum\",\n",
    "    \"image\": lambda x: ensure_unique(x, \"image\"),\n",
    "    \"country\": lambda x: x.iloc[0],  # Take the first element of the group\n",
    "}\n",
    "try:\n",
    "    # `id_spotify` wird als Index verwendet und anschließend zurückgesetzt\n",
    "    df_songs_sorted = df_songs.sort_values(by=[\"id_spotify\", \"year_released\", \"match_score\"], ascending=[True, True, False])\n",
    "    df_songs_filtered = df_songs_sorted.groupby(\"id_spotify\").agg(aggregations_total).sort_values([\"year_released\", \"points\"], ascending=[False, False]).reset_index()\n",
    "except ValueError as e:\n",
    "    print(\"Fehler bei der Gruppierung:\", e)"
   ]
  },
  {
   "cell_type": "code",
   "execution_count": 9,
   "metadata": {},
   "outputs": [
    {
     "name": "stderr",
     "output_type": "stream",
     "text": [
      "/var/folders/xx/yw34cppn2cv3kmh21dv6xcnw0000gp/T/ipykernel_20681/2590640457.py:1: DeprecationWarning: DataFrameGroupBy.apply operated on the grouping columns. This behavior is deprecated, and in a future version of pandas the grouping columns will be excluded from the operation. Either pass `include_groups=False` to exclude the groupings or explicitly select the grouping columns after groupby to silence this warning.\n",
      "  top_10_p_year = df_songs_filtered.groupby(\"year_released\", group_keys=False).apply(lambda group: group.nlargest(10, \"points\"))\n"
     ]
    }
   ],
   "source": [
    "top_10_p_year = df_songs_filtered.groupby(\"year_released\", group_keys=False).apply(lambda group: group.nlargest(10, \"points\"))\n",
    "top_10_p_year.to_csv(\"song_data.csv\", index=False)"
   ]
  },
  {
   "cell_type": "code",
   "execution_count": null,
   "metadata": {},
   "outputs": [],
   "source": []
  },
  {
   "cell_type": "code",
   "execution_count": null,
   "metadata": {},
   "outputs": [],
   "source": [
    "pd.set_option(\"display.max_rows\", 500)\n",
    "top_10_p_year.sort_values([\"year_released\", \"points\"], ascending=[False, False]).head(100)"
   ]
  },
  {
   "cell_type": "markdown",
   "metadata": {},
   "source": [
    "## Plots"
   ]
  },
  {
   "cell_type": "code",
   "execution_count": null,
   "metadata": {},
   "outputs": [],
   "source": [
    "import matplotlib.pyplot as plt\n",
    "import seaborn as sns\n",
    "\n",
    "def create_boxplot(df, x_col, y_col, title=None, figsize=(10, 6)):\n",
    "    \"\"\"\n",
    "    Create a box plot from a pandas DataFrame.\n",
    "    \n",
    "    Parameters:\n",
    "    df (pandas.DataFrame): Input DataFrame\n",
    "    x_col (str): Name of the integer column for x-axis\n",
    "    y_col (str): Name of the numeric column for y-axis\n",
    "    title (str, optional): Plot title\n",
    "    figsize (tuple, optional): Figure size as (width, height)\n",
    "    \"\"\"\n",
    "    # Create figure and axis\n",
    "    plt.figure(figsize=figsize)\n",
    "    \n",
    "    # Create box plot using seaborn\n",
    "    sns.boxplot(data=df, x=x_col, y=y_col, fli)\n",
    "    \n",
    "    # Customize plot\n",
    "    plt.title(title or f'Box Plot of {y_col} by {x_col}')\n",
    "    plt.xlabel(x_col)\n",
    "    plt.ylabel(y_col)\n",
    "    \n",
    "    # Rotate x-axis labels if there are many categories\n",
    "    plt.xticks(rotation=45 if len(df[x_col].unique()) > 10 else 0)\n",
    "    \n",
    "    # Adjust layout to prevent label cutoff\n",
    "    plt.tight_layout()\n",
    "    \n",
    "    # Show plot\n",
    "    plt.show()\n",
    "\n"
   ]
  },
  {
   "cell_type": "code",
   "execution_count": null,
   "metadata": {},
   "outputs": [],
   "source": [
    "create_boxplot(df_songs_filtered, \"year_released\", \"points\")"
   ]
  },
  {
   "cell_type": "code",
   "execution_count": null,
   "metadata": {},
   "outputs": [],
   "source": [
    "\n",
    "df_songs_filtered.groupby(by=\"year_released\").agg({\"points\": \"median\"}).plot()"
   ]
  },
  {
   "cell_type": "code",
   "execution_count": null,
   "metadata": {},
   "outputs": [],
   "source": [
    "df_songs_filtered.sort_values(\"points\", ascending=False).head(200).groupby(by=\"year_released\").agg({\"points\": \"median\"}).plot()"
   ]
  },
  {
   "cell_type": "code",
   "execution_count": null,
   "metadata": {},
   "outputs": [],
   "source": [
    "df_songs_filtered.hist(column=\"year_released\", bins=len(df_songs_filtered[\"year_released\"].unique()))"
   ]
  },
  {
   "cell_type": "code",
   "execution_count": null,
   "metadata": {},
   "outputs": [],
   "source": []
  },
  {
   "cell_type": "code",
   "execution_count": 14,
   "metadata": {},
   "outputs": [
    {
     "name": "stdout",
     "output_type": "stream",
     "text": [
      "Zeit für die Anfrage: 0.23 Sekunden\n",
      "Adresse: 18, Amselweg, Isenbüttel, Samtgemeinde Isenbüttel, Gifhorn, Niedersachsen, 38550, Deutschland\n",
      "Breitengrad: 52.4300349\n",
      "Längengrad: 10.581476200541125\n"
     ]
    }
   ],
   "source": [
    "from geopy.geocoders import Nominatim\n",
    "import time\n",
    "\n",
    "# Initialisierung des Nominatim-Geocoders\n",
    "geolocator = Nominatim(user_agent=\"geoapi_exercises\")\n",
    "\n",
    "# Adresse, für die die Koordinaten ermittelt werden sollen\n",
    "adresse = \"Amselweg 18, Isenbüttel, Deutschland\"\n",
    "\n",
    "# Geocodierung der Adresse und zeit für die anfrage\n",
    "start = time.time()\n",
    "location = geolocator.geocode(adresse)\n",
    "end = time.time()\n",
    "print(f\"Zeit für die Anfrage: {end - start:.2f} Sekunden\")\n",
    "\n",
    "# Ausgabe der Ergebnisse\n",
    "if location:\n",
    "    print(f\"Adresse: {location.address}\")\n",
    "    print(f\"Breitengrad: {location.latitude}\")\n",
    "    print(f\"Längengrad: {location.longitude}\")\n",
    "else:\n",
    "    print(\"Adresse konnte nicht gefunden werden!\")\n"
   ]
  },
  {
   "cell_type": "markdown",
   "metadata": {},
   "source": []
  }
 ],
 "metadata": {
  "kernelspec": {
   "display_name": "hitster-venv",
   "language": "python",
   "name": "python3"
  },
  "language_info": {
   "codemirror_mode": {
    "name": "ipython",
    "version": 3
   },
   "file_extension": ".py",
   "mimetype": "text/x-python",
   "name": "python",
   "nbconvert_exporter": "python",
   "pygments_lexer": "ipython3",
   "version": "3.10.14"
  }
 },
 "nbformat": 4,
 "nbformat_minor": 2
}
